{
  "nbformat": 4,
  "nbformat_minor": 0,
  "metadata": {
    "colab": {
      "name": "IGIB_task.ipynb",
      "provenance": []
    },
    "kernelspec": {
      "name": "python3",
      "display_name": "Python 3"
    },
    "language_info": {
      "name": "python"
    }
  },
  "cells": [
    {
      "cell_type": "markdown",
      "source": [
        "# Task description \n",
        "### Take the ‘proteins.fasta’ file as input and produce the following tables as output: \n",
        "1.\tA list of each of the unique 10mer sequences in the input file, with a \n",
        "count of how many times each occurs. It should be two tab-separated columns with the 10mer sequence in the first column and its counts in the second column, sorted in decreasing order by count. As a bonus, include a third column that contains an ‘X’ if the counts of the peptide are in the 20th to 30th percentile of overall counts (with the first percentile being the highest). \n",
        "Example: \n",
        "          DGTRREEFQW     35\n",
        "          HHPWVWLKSS     28\n",
        "          PRPRRRPRWS     5\n",
        "          ...\n",
        "\n"
      ],
      "metadata": {
        "id": "0uJ5hIuWpipE"
      }
    },
    {
      "cell_type": "markdown",
      "source": [
        "installing Biopython package for handling Sequence data"
      ],
      "metadata": {
        "id": "I585Fcfgqvva"
      }
    },
    {
      "cell_type": "code",
      "execution_count": 1,
      "metadata": {
        "colab": {
          "base_uri": "https://localhost:8080/"
        },
        "id": "8J2qepp4U_oI",
        "outputId": "b63d8e15-dc17-4277-8582-f56e00200911"
      },
      "outputs": [
        {
          "output_type": "stream",
          "name": "stdout",
          "text": [
            "Looking in indexes: https://pypi.org/simple, https://us-python.pkg.dev/colab-wheels/public/simple/\n",
            "Requirement already satisfied: biopython in /usr/local/lib/python3.7/dist-packages (1.79)\n",
            "Requirement already satisfied: numpy in /usr/local/lib/python3.7/dist-packages (from biopython) (1.21.6)\n"
          ]
        }
      ],
      "source": [
        "pip install biopython"
      ]
    },
    {
      "cell_type": "markdown",
      "source": [
        "importing necessary packages for the analysis. \n",
        "mounting google drive for accessing file from gdrive to use in google colab."
      ],
      "metadata": {
        "id": "BvWH_h6sq6Tq"
      }
    },
    {
      "cell_type": "code",
      "source": [
        "import Bio\n",
        "import pandas as pd\n",
        "import numpy as np\n",
        "from Bio import SeqIO\n",
        "from collections import Counter\n",
        "from google.colab import drive\n",
        "drive.mount('/content/gdrive/', force_remount=True)"
      ],
      "metadata": {
        "colab": {
          "base_uri": "https://localhost:8080/"
        },
        "id": "hiAuUib4VKf5",
        "outputId": "b5fb991d-ef91-43f8-c077-ecfa86502c11"
      },
      "execution_count": 2,
      "outputs": [
        {
          "output_type": "stream",
          "name": "stdout",
          "text": [
            "Mounted at /content/gdrive/\n"
          ]
        }
      ]
    },
    {
      "cell_type": "markdown",
      "source": [
        "**Main body of program.**"
      ],
      "metadata": {
        "id": "SM2ng9JZrleT"
      }
    },
    {
      "cell_type": "code",
      "source": [
        "# assigning empty list to hold the 10mer seq\n",
        "fragment_10mer = []\n",
        "\n",
        "#reading FASTA seq from the fasta file\n",
        "\n",
        "for seq_record in SeqIO.parse(\"/content/gdrive/My Drive/Colab Notebooks/proteins.fasta\",\"fasta\"):\n",
        "  for i in range(0,len(seq_record)):\n",
        "    \n",
        "    #splicing sequence into 10mer\n",
        "    tenMer = seq_record.seq[i:i+10]\n",
        "\n",
        "    #assigning 10mers to the list\n",
        "    if len(tenMer) == 10:\n",
        "      fragment_10mer.append(tenMer)\n",
        "      #print(tenMer)\n",
        "    else: break\n",
        "\n",
        "  \n",
        "  #print(\"\\n -------------- \\n\")\n",
        "  #print(fragment_10mer)\n",
        "#Counter(fragment_10mer)"
      ],
      "metadata": {
        "id": "O55UwyjLVccW"
      },
      "execution_count": 3,
      "outputs": []
    },
    {
      "cell_type": "code",
      "source": [
        "#counting the unique seq\n",
        "final_out = Counter(fragment_10mer)\n",
        "#final_out"
      ],
      "metadata": {
        "id": "BdLZLPdiVpIx"
      },
      "execution_count": 4,
      "outputs": []
    },
    {
      "cell_type": "markdown",
      "source": [
        "**Tranforming data into Dataframes for further data manipulation**"
      ],
      "metadata": {
        "id": "S1Lk9XX5slxP"
      }
    },
    {
      "cell_type": "code",
      "source": [
        "df = pd.DataFrame.from_records(final_out.most_common(),columns=['sequence','count_10mer'])\n",
        "df['sequence'] = df['sequence'].astype('str') \n",
        "df"
      ],
      "metadata": {
        "colab": {
          "base_uri": "https://localhost:8080/",
          "height": 424
        },
        "id": "lM0JFMLsVIes",
        "outputId": "8d313d38-bf04-4ff8-a34e-6a585aa2f87b"
      },
      "execution_count": 5,
      "outputs": [
        {
          "output_type": "execute_result",
          "data": {
            "text/plain": [
              "         sequence  count_10mer\n",
              "0      GEDGCWYGME          500\n",
              "1      EDGCWYGMEI          500\n",
              "2      VVTTDISEMG          500\n",
              "3      VTTDISEMGA          500\n",
              "4      TTDISEMGAN          500\n",
              "...           ...          ...\n",
              "28847  WLETKGVDRL            1\n",
              "28848  LETKGVDRLK            1\n",
              "28849  ETKGVDRLKR            1\n",
              "28850  TKGVDRLKRM            1\n",
              "28851  KGVDRLKRMA            1\n",
              "\n",
              "[28852 rows x 2 columns]"
            ],
            "text/html": [
              "\n",
              "  <div id=\"df-802a7d1a-0791-41d1-b5f2-57a0af1d92f7\">\n",
              "    <div class=\"colab-df-container\">\n",
              "      <div>\n",
              "<style scoped>\n",
              "    .dataframe tbody tr th:only-of-type {\n",
              "        vertical-align: middle;\n",
              "    }\n",
              "\n",
              "    .dataframe tbody tr th {\n",
              "        vertical-align: top;\n",
              "    }\n",
              "\n",
              "    .dataframe thead th {\n",
              "        text-align: right;\n",
              "    }\n",
              "</style>\n",
              "<table border=\"1\" class=\"dataframe\">\n",
              "  <thead>\n",
              "    <tr style=\"text-align: right;\">\n",
              "      <th></th>\n",
              "      <th>sequence</th>\n",
              "      <th>count_10mer</th>\n",
              "    </tr>\n",
              "  </thead>\n",
              "  <tbody>\n",
              "    <tr>\n",
              "      <th>0</th>\n",
              "      <td>GEDGCWYGME</td>\n",
              "      <td>500</td>\n",
              "    </tr>\n",
              "    <tr>\n",
              "      <th>1</th>\n",
              "      <td>EDGCWYGMEI</td>\n",
              "      <td>500</td>\n",
              "    </tr>\n",
              "    <tr>\n",
              "      <th>2</th>\n",
              "      <td>VVTTDISEMG</td>\n",
              "      <td>500</td>\n",
              "    </tr>\n",
              "    <tr>\n",
              "      <th>3</th>\n",
              "      <td>VTTDISEMGA</td>\n",
              "      <td>500</td>\n",
              "    </tr>\n",
              "    <tr>\n",
              "      <th>4</th>\n",
              "      <td>TTDISEMGAN</td>\n",
              "      <td>500</td>\n",
              "    </tr>\n",
              "    <tr>\n",
              "      <th>...</th>\n",
              "      <td>...</td>\n",
              "      <td>...</td>\n",
              "    </tr>\n",
              "    <tr>\n",
              "      <th>28847</th>\n",
              "      <td>WLETKGVDRL</td>\n",
              "      <td>1</td>\n",
              "    </tr>\n",
              "    <tr>\n",
              "      <th>28848</th>\n",
              "      <td>LETKGVDRLK</td>\n",
              "      <td>1</td>\n",
              "    </tr>\n",
              "    <tr>\n",
              "      <th>28849</th>\n",
              "      <td>ETKGVDRLKR</td>\n",
              "      <td>1</td>\n",
              "    </tr>\n",
              "    <tr>\n",
              "      <th>28850</th>\n",
              "      <td>TKGVDRLKRM</td>\n",
              "      <td>1</td>\n",
              "    </tr>\n",
              "    <tr>\n",
              "      <th>28851</th>\n",
              "      <td>KGVDRLKRMA</td>\n",
              "      <td>1</td>\n",
              "    </tr>\n",
              "  </tbody>\n",
              "</table>\n",
              "<p>28852 rows × 2 columns</p>\n",
              "</div>\n",
              "      <button class=\"colab-df-convert\" onclick=\"convertToInteractive('df-802a7d1a-0791-41d1-b5f2-57a0af1d92f7')\"\n",
              "              title=\"Convert this dataframe to an interactive table.\"\n",
              "              style=\"display:none;\">\n",
              "        \n",
              "  <svg xmlns=\"http://www.w3.org/2000/svg\" height=\"24px\"viewBox=\"0 0 24 24\"\n",
              "       width=\"24px\">\n",
              "    <path d=\"M0 0h24v24H0V0z\" fill=\"none\"/>\n",
              "    <path d=\"M18.56 5.44l.94 2.06.94-2.06 2.06-.94-2.06-.94-.94-2.06-.94 2.06-2.06.94zm-11 1L8.5 8.5l.94-2.06 2.06-.94-2.06-.94L8.5 2.5l-.94 2.06-2.06.94zm10 10l.94 2.06.94-2.06 2.06-.94-2.06-.94-.94-2.06-.94 2.06-2.06.94z\"/><path d=\"M17.41 7.96l-1.37-1.37c-.4-.4-.92-.59-1.43-.59-.52 0-1.04.2-1.43.59L10.3 9.45l-7.72 7.72c-.78.78-.78 2.05 0 2.83L4 21.41c.39.39.9.59 1.41.59.51 0 1.02-.2 1.41-.59l7.78-7.78 2.81-2.81c.8-.78.8-2.07 0-2.86zM5.41 20L4 18.59l7.72-7.72 1.47 1.35L5.41 20z\"/>\n",
              "  </svg>\n",
              "      </button>\n",
              "      \n",
              "  <style>\n",
              "    .colab-df-container {\n",
              "      display:flex;\n",
              "      flex-wrap:wrap;\n",
              "      gap: 12px;\n",
              "    }\n",
              "\n",
              "    .colab-df-convert {\n",
              "      background-color: #E8F0FE;\n",
              "      border: none;\n",
              "      border-radius: 50%;\n",
              "      cursor: pointer;\n",
              "      display: none;\n",
              "      fill: #1967D2;\n",
              "      height: 32px;\n",
              "      padding: 0 0 0 0;\n",
              "      width: 32px;\n",
              "    }\n",
              "\n",
              "    .colab-df-convert:hover {\n",
              "      background-color: #E2EBFA;\n",
              "      box-shadow: 0px 1px 2px rgba(60, 64, 67, 0.3), 0px 1px 3px 1px rgba(60, 64, 67, 0.15);\n",
              "      fill: #174EA6;\n",
              "    }\n",
              "\n",
              "    [theme=dark] .colab-df-convert {\n",
              "      background-color: #3B4455;\n",
              "      fill: #D2E3FC;\n",
              "    }\n",
              "\n",
              "    [theme=dark] .colab-df-convert:hover {\n",
              "      background-color: #434B5C;\n",
              "      box-shadow: 0px 1px 3px 1px rgba(0, 0, 0, 0.15);\n",
              "      filter: drop-shadow(0px 1px 2px rgba(0, 0, 0, 0.3));\n",
              "      fill: #FFFFFF;\n",
              "    }\n",
              "  </style>\n",
              "\n",
              "      <script>\n",
              "        const buttonEl =\n",
              "          document.querySelector('#df-802a7d1a-0791-41d1-b5f2-57a0af1d92f7 button.colab-df-convert');\n",
              "        buttonEl.style.display =\n",
              "          google.colab.kernel.accessAllowed ? 'block' : 'none';\n",
              "\n",
              "        async function convertToInteractive(key) {\n",
              "          const element = document.querySelector('#df-802a7d1a-0791-41d1-b5f2-57a0af1d92f7');\n",
              "          const dataTable =\n",
              "            await google.colab.kernel.invokeFunction('convertToInteractive',\n",
              "                                                     [key], {});\n",
              "          if (!dataTable) return;\n",
              "\n",
              "          const docLinkHtml = 'Like what you see? Visit the ' +\n",
              "            '<a target=\"_blank\" href=https://colab.research.google.com/notebooks/data_table.ipynb>data table notebook</a>'\n",
              "            + ' to learn more about interactive tables.';\n",
              "          element.innerHTML = '';\n",
              "          dataTable['output_type'] = 'display_data';\n",
              "          await google.colab.output.renderOutput(dataTable, element);\n",
              "          const docLink = document.createElement('div');\n",
              "          docLink.innerHTML = docLinkHtml;\n",
              "          element.appendChild(docLink);\n",
              "        }\n",
              "      </script>\n",
              "    </div>\n",
              "  </div>\n",
              "  "
            ]
          },
          "metadata": {},
          "execution_count": 5
        }
      ]
    },
    {
      "cell_type": "markdown",
      "source": [
        "**‘X’  if the counts of the peptide are in the 20th to 30th percentile of overall counts**"
      ],
      "metadata": {
        "id": "PX2Kc2EQtftX"
      }
    },
    {
      "cell_type": "code",
      "source": [
        "condition = [\n",
        "              (df['count_10mer'] >= df.count_10mer.quantile(.2)) & (df['count_10mer'] <= df.count_10mer.quantile(.3)),\n",
        "]\n",
        "values = [' X ']\n",
        "\n",
        "df['X_mark']=np.select(condition,values)\n",
        "df[df['X_mark']==' X ']"
      ],
      "metadata": {
        "colab": {
          "base_uri": "https://localhost:8080/",
          "height": 424
        },
        "id": "AGDFpKPOVOWC",
        "outputId": "277ca232-b813-4607-da11-b4597cbe57e5"
      },
      "execution_count": 6,
      "outputs": [
        {
          "output_type": "execute_result",
          "data": {
            "text/plain": [
              "         sequence  count_10mer X_mark\n",
              "17442  ALALGMMVLR            2     X \n",
              "17443  LALGMMVLRI            2     X \n",
              "17444  ALGMMVLRIV            2     X \n",
              "17445  LGMMVLRIVR            2     X \n",
              "17446  GMMVLRIVRN            2     X \n",
              "...           ...          ...    ...\n",
              "28847  WLETKGVDRL            1     X \n",
              "28848  LETKGVDRLK            1     X \n",
              "28849  ETKGVDRLKR            1     X \n",
              "28850  TKGVDRLKRM            1     X \n",
              "28851  KGVDRLKRMA            1     X \n",
              "\n",
              "[11410 rows x 3 columns]"
            ],
            "text/html": [
              "\n",
              "  <div id=\"df-e8f58950-b4de-4aca-acf6-62e77b5f0979\">\n",
              "    <div class=\"colab-df-container\">\n",
              "      <div>\n",
              "<style scoped>\n",
              "    .dataframe tbody tr th:only-of-type {\n",
              "        vertical-align: middle;\n",
              "    }\n",
              "\n",
              "    .dataframe tbody tr th {\n",
              "        vertical-align: top;\n",
              "    }\n",
              "\n",
              "    .dataframe thead th {\n",
              "        text-align: right;\n",
              "    }\n",
              "</style>\n",
              "<table border=\"1\" class=\"dataframe\">\n",
              "  <thead>\n",
              "    <tr style=\"text-align: right;\">\n",
              "      <th></th>\n",
              "      <th>sequence</th>\n",
              "      <th>count_10mer</th>\n",
              "      <th>X_mark</th>\n",
              "    </tr>\n",
              "  </thead>\n",
              "  <tbody>\n",
              "    <tr>\n",
              "      <th>17442</th>\n",
              "      <td>ALALGMMVLR</td>\n",
              "      <td>2</td>\n",
              "      <td>X</td>\n",
              "    </tr>\n",
              "    <tr>\n",
              "      <th>17443</th>\n",
              "      <td>LALGMMVLRI</td>\n",
              "      <td>2</td>\n",
              "      <td>X</td>\n",
              "    </tr>\n",
              "    <tr>\n",
              "      <th>17444</th>\n",
              "      <td>ALGMMVLRIV</td>\n",
              "      <td>2</td>\n",
              "      <td>X</td>\n",
              "    </tr>\n",
              "    <tr>\n",
              "      <th>17445</th>\n",
              "      <td>LGMMVLRIVR</td>\n",
              "      <td>2</td>\n",
              "      <td>X</td>\n",
              "    </tr>\n",
              "    <tr>\n",
              "      <th>17446</th>\n",
              "      <td>GMMVLRIVRN</td>\n",
              "      <td>2</td>\n",
              "      <td>X</td>\n",
              "    </tr>\n",
              "    <tr>\n",
              "      <th>...</th>\n",
              "      <td>...</td>\n",
              "      <td>...</td>\n",
              "      <td>...</td>\n",
              "    </tr>\n",
              "    <tr>\n",
              "      <th>28847</th>\n",
              "      <td>WLETKGVDRL</td>\n",
              "      <td>1</td>\n",
              "      <td>X</td>\n",
              "    </tr>\n",
              "    <tr>\n",
              "      <th>28848</th>\n",
              "      <td>LETKGVDRLK</td>\n",
              "      <td>1</td>\n",
              "      <td>X</td>\n",
              "    </tr>\n",
              "    <tr>\n",
              "      <th>28849</th>\n",
              "      <td>ETKGVDRLKR</td>\n",
              "      <td>1</td>\n",
              "      <td>X</td>\n",
              "    </tr>\n",
              "    <tr>\n",
              "      <th>28850</th>\n",
              "      <td>TKGVDRLKRM</td>\n",
              "      <td>1</td>\n",
              "      <td>X</td>\n",
              "    </tr>\n",
              "    <tr>\n",
              "      <th>28851</th>\n",
              "      <td>KGVDRLKRMA</td>\n",
              "      <td>1</td>\n",
              "      <td>X</td>\n",
              "    </tr>\n",
              "  </tbody>\n",
              "</table>\n",
              "<p>11410 rows × 3 columns</p>\n",
              "</div>\n",
              "      <button class=\"colab-df-convert\" onclick=\"convertToInteractive('df-e8f58950-b4de-4aca-acf6-62e77b5f0979')\"\n",
              "              title=\"Convert this dataframe to an interactive table.\"\n",
              "              style=\"display:none;\">\n",
              "        \n",
              "  <svg xmlns=\"http://www.w3.org/2000/svg\" height=\"24px\"viewBox=\"0 0 24 24\"\n",
              "       width=\"24px\">\n",
              "    <path d=\"M0 0h24v24H0V0z\" fill=\"none\"/>\n",
              "    <path d=\"M18.56 5.44l.94 2.06.94-2.06 2.06-.94-2.06-.94-.94-2.06-.94 2.06-2.06.94zm-11 1L8.5 8.5l.94-2.06 2.06-.94-2.06-.94L8.5 2.5l-.94 2.06-2.06.94zm10 10l.94 2.06.94-2.06 2.06-.94-2.06-.94-.94-2.06-.94 2.06-2.06.94z\"/><path d=\"M17.41 7.96l-1.37-1.37c-.4-.4-.92-.59-1.43-.59-.52 0-1.04.2-1.43.59L10.3 9.45l-7.72 7.72c-.78.78-.78 2.05 0 2.83L4 21.41c.39.39.9.59 1.41.59.51 0 1.02-.2 1.41-.59l7.78-7.78 2.81-2.81c.8-.78.8-2.07 0-2.86zM5.41 20L4 18.59l7.72-7.72 1.47 1.35L5.41 20z\"/>\n",
              "  </svg>\n",
              "      </button>\n",
              "      \n",
              "  <style>\n",
              "    .colab-df-container {\n",
              "      display:flex;\n",
              "      flex-wrap:wrap;\n",
              "      gap: 12px;\n",
              "    }\n",
              "\n",
              "    .colab-df-convert {\n",
              "      background-color: #E8F0FE;\n",
              "      border: none;\n",
              "      border-radius: 50%;\n",
              "      cursor: pointer;\n",
              "      display: none;\n",
              "      fill: #1967D2;\n",
              "      height: 32px;\n",
              "      padding: 0 0 0 0;\n",
              "      width: 32px;\n",
              "    }\n",
              "\n",
              "    .colab-df-convert:hover {\n",
              "      background-color: #E2EBFA;\n",
              "      box-shadow: 0px 1px 2px rgba(60, 64, 67, 0.3), 0px 1px 3px 1px rgba(60, 64, 67, 0.15);\n",
              "      fill: #174EA6;\n",
              "    }\n",
              "\n",
              "    [theme=dark] .colab-df-convert {\n",
              "      background-color: #3B4455;\n",
              "      fill: #D2E3FC;\n",
              "    }\n",
              "\n",
              "    [theme=dark] .colab-df-convert:hover {\n",
              "      background-color: #434B5C;\n",
              "      box-shadow: 0px 1px 3px 1px rgba(0, 0, 0, 0.15);\n",
              "      filter: drop-shadow(0px 1px 2px rgba(0, 0, 0, 0.3));\n",
              "      fill: #FFFFFF;\n",
              "    }\n",
              "  </style>\n",
              "\n",
              "      <script>\n",
              "        const buttonEl =\n",
              "          document.querySelector('#df-e8f58950-b4de-4aca-acf6-62e77b5f0979 button.colab-df-convert');\n",
              "        buttonEl.style.display =\n",
              "          google.colab.kernel.accessAllowed ? 'block' : 'none';\n",
              "\n",
              "        async function convertToInteractive(key) {\n",
              "          const element = document.querySelector('#df-e8f58950-b4de-4aca-acf6-62e77b5f0979');\n",
              "          const dataTable =\n",
              "            await google.colab.kernel.invokeFunction('convertToInteractive',\n",
              "                                                     [key], {});\n",
              "          if (!dataTable) return;\n",
              "\n",
              "          const docLinkHtml = 'Like what you see? Visit the ' +\n",
              "            '<a target=\"_blank\" href=https://colab.research.google.com/notebooks/data_table.ipynb>data table notebook</a>'\n",
              "            + ' to learn more about interactive tables.';\n",
              "          element.innerHTML = '';\n",
              "          dataTable['output_type'] = 'display_data';\n",
              "          await google.colab.output.renderOutput(dataTable, element);\n",
              "          const docLink = document.createElement('div');\n",
              "          docLink.innerHTML = docLinkHtml;\n",
              "          element.appendChild(docLink);\n",
              "        }\n",
              "      </script>\n",
              "    </div>\n",
              "  </div>\n",
              "  "
            ]
          },
          "metadata": {},
          "execution_count": 6
        }
      ]
    },
    {
      "cell_type": "markdown",
      "source": [
        "**converting the result to a CSV and TSV file**"
      ],
      "metadata": {
        "id": "tAY2CqY4t7_d"
      }
    },
    {
      "cell_type": "code",
      "source": [
        "df.to_csv('/content/gdrive/My Drive/Colab Notebooks/10mer_task1.csv', index=False)\n",
        "df.to_csv('/content/gdrive/My Drive/Colab Notebooks/10mer_task1.tsv', index=False, sep='\\t')"
      ],
      "metadata": {
        "id": "YlFpJYnaVZLy"
      },
      "execution_count": 7,
      "outputs": []
    },
    {
      "cell_type": "markdown",
      "source": [
        "# New Section"
      ],
      "metadata": {
        "id": "W6Y1CIiTukye"
      }
    },
    {
      "cell_type": "markdown",
      "source": [
        "2.\tA file that contains the following summary statistics on the counts: min, max, median, mean, and variance. There should be one label and value per row, separated by a colon and a space. \n",
        "Example: \n",
        "\n",
        "      min: 1 \n",
        "      max: 52 \n",
        "      median: 6 \n",
        "      ... \n"
      ],
      "metadata": {
        "id": "ePKHAVkjuKOn"
      }
    },
    {
      "cell_type": "markdown",
      "source": [
        "**Further descriptive Analysis**"
      ],
      "metadata": {
        "id": "aSE4c69tucdu"
      }
    },
    {
      "cell_type": "code",
      "source": [
        "df.describe()"
      ],
      "metadata": {
        "colab": {
          "base_uri": "https://localhost:8080/",
          "height": 300
        },
        "id": "TfuwdgZWdceO",
        "outputId": "f71d2d0f-6e88-4470-f20c-58f413592052"
      },
      "execution_count": 8,
      "outputs": [
        {
          "output_type": "execute_result",
          "data": {
            "text/plain": [
              "        count_10mer\n",
              "count  28852.000000\n",
              "mean      58.479066\n",
              "std       89.831048\n",
              "min        1.000000\n",
              "25%        1.000000\n",
              "50%       10.000000\n",
              "75%       89.000000\n",
              "max      500.000000"
            ],
            "text/html": [
              "\n",
              "  <div id=\"df-3d5786ad-b5a6-45f6-9903-143620f1d018\">\n",
              "    <div class=\"colab-df-container\">\n",
              "      <div>\n",
              "<style scoped>\n",
              "    .dataframe tbody tr th:only-of-type {\n",
              "        vertical-align: middle;\n",
              "    }\n",
              "\n",
              "    .dataframe tbody tr th {\n",
              "        vertical-align: top;\n",
              "    }\n",
              "\n",
              "    .dataframe thead th {\n",
              "        text-align: right;\n",
              "    }\n",
              "</style>\n",
              "<table border=\"1\" class=\"dataframe\">\n",
              "  <thead>\n",
              "    <tr style=\"text-align: right;\">\n",
              "      <th></th>\n",
              "      <th>count_10mer</th>\n",
              "    </tr>\n",
              "  </thead>\n",
              "  <tbody>\n",
              "    <tr>\n",
              "      <th>count</th>\n",
              "      <td>28852.000000</td>\n",
              "    </tr>\n",
              "    <tr>\n",
              "      <th>mean</th>\n",
              "      <td>58.479066</td>\n",
              "    </tr>\n",
              "    <tr>\n",
              "      <th>std</th>\n",
              "      <td>89.831048</td>\n",
              "    </tr>\n",
              "    <tr>\n",
              "      <th>min</th>\n",
              "      <td>1.000000</td>\n",
              "    </tr>\n",
              "    <tr>\n",
              "      <th>25%</th>\n",
              "      <td>1.000000</td>\n",
              "    </tr>\n",
              "    <tr>\n",
              "      <th>50%</th>\n",
              "      <td>10.000000</td>\n",
              "    </tr>\n",
              "    <tr>\n",
              "      <th>75%</th>\n",
              "      <td>89.000000</td>\n",
              "    </tr>\n",
              "    <tr>\n",
              "      <th>max</th>\n",
              "      <td>500.000000</td>\n",
              "    </tr>\n",
              "  </tbody>\n",
              "</table>\n",
              "</div>\n",
              "      <button class=\"colab-df-convert\" onclick=\"convertToInteractive('df-3d5786ad-b5a6-45f6-9903-143620f1d018')\"\n",
              "              title=\"Convert this dataframe to an interactive table.\"\n",
              "              style=\"display:none;\">\n",
              "        \n",
              "  <svg xmlns=\"http://www.w3.org/2000/svg\" height=\"24px\"viewBox=\"0 0 24 24\"\n",
              "       width=\"24px\">\n",
              "    <path d=\"M0 0h24v24H0V0z\" fill=\"none\"/>\n",
              "    <path d=\"M18.56 5.44l.94 2.06.94-2.06 2.06-.94-2.06-.94-.94-2.06-.94 2.06-2.06.94zm-11 1L8.5 8.5l.94-2.06 2.06-.94-2.06-.94L8.5 2.5l-.94 2.06-2.06.94zm10 10l.94 2.06.94-2.06 2.06-.94-2.06-.94-.94-2.06-.94 2.06-2.06.94z\"/><path d=\"M17.41 7.96l-1.37-1.37c-.4-.4-.92-.59-1.43-.59-.52 0-1.04.2-1.43.59L10.3 9.45l-7.72 7.72c-.78.78-.78 2.05 0 2.83L4 21.41c.39.39.9.59 1.41.59.51 0 1.02-.2 1.41-.59l7.78-7.78 2.81-2.81c.8-.78.8-2.07 0-2.86zM5.41 20L4 18.59l7.72-7.72 1.47 1.35L5.41 20z\"/>\n",
              "  </svg>\n",
              "      </button>\n",
              "      \n",
              "  <style>\n",
              "    .colab-df-container {\n",
              "      display:flex;\n",
              "      flex-wrap:wrap;\n",
              "      gap: 12px;\n",
              "    }\n",
              "\n",
              "    .colab-df-convert {\n",
              "      background-color: #E8F0FE;\n",
              "      border: none;\n",
              "      border-radius: 50%;\n",
              "      cursor: pointer;\n",
              "      display: none;\n",
              "      fill: #1967D2;\n",
              "      height: 32px;\n",
              "      padding: 0 0 0 0;\n",
              "      width: 32px;\n",
              "    }\n",
              "\n",
              "    .colab-df-convert:hover {\n",
              "      background-color: #E2EBFA;\n",
              "      box-shadow: 0px 1px 2px rgba(60, 64, 67, 0.3), 0px 1px 3px 1px rgba(60, 64, 67, 0.15);\n",
              "      fill: #174EA6;\n",
              "    }\n",
              "\n",
              "    [theme=dark] .colab-df-convert {\n",
              "      background-color: #3B4455;\n",
              "      fill: #D2E3FC;\n",
              "    }\n",
              "\n",
              "    [theme=dark] .colab-df-convert:hover {\n",
              "      background-color: #434B5C;\n",
              "      box-shadow: 0px 1px 3px 1px rgba(0, 0, 0, 0.15);\n",
              "      filter: drop-shadow(0px 1px 2px rgba(0, 0, 0, 0.3));\n",
              "      fill: #FFFFFF;\n",
              "    }\n",
              "  </style>\n",
              "\n",
              "      <script>\n",
              "        const buttonEl =\n",
              "          document.querySelector('#df-3d5786ad-b5a6-45f6-9903-143620f1d018 button.colab-df-convert');\n",
              "        buttonEl.style.display =\n",
              "          google.colab.kernel.accessAllowed ? 'block' : 'none';\n",
              "\n",
              "        async function convertToInteractive(key) {\n",
              "          const element = document.querySelector('#df-3d5786ad-b5a6-45f6-9903-143620f1d018');\n",
              "          const dataTable =\n",
              "            await google.colab.kernel.invokeFunction('convertToInteractive',\n",
              "                                                     [key], {});\n",
              "          if (!dataTable) return;\n",
              "\n",
              "          const docLinkHtml = 'Like what you see? Visit the ' +\n",
              "            '<a target=\"_blank\" href=https://colab.research.google.com/notebooks/data_table.ipynb>data table notebook</a>'\n",
              "            + ' to learn more about interactive tables.';\n",
              "          element.innerHTML = '';\n",
              "          dataTable['output_type'] = 'display_data';\n",
              "          await google.colab.output.renderOutput(dataTable, element);\n",
              "          const docLink = document.createElement('div');\n",
              "          docLink.innerHTML = docLinkHtml;\n",
              "          element.appendChild(docLink);\n",
              "        }\n",
              "      </script>\n",
              "    </div>\n",
              "  </div>\n",
              "  "
            ]
          },
          "metadata": {},
          "execution_count": 8
        }
      ]
    },
    {
      "cell_type": "code",
      "source": [
        "varience = df['count_10mer'].var()"
      ],
      "metadata": {
        "id": "nGWAtuGZuFMx"
      },
      "execution_count": 9,
      "outputs": []
    },
    {
      "cell_type": "code",
      "source": [
        "print(df['count_10mer'].std())\n",
        "print((df['count_10mer'].std())**2)"
      ],
      "metadata": {
        "colab": {
          "base_uri": "https://localhost:8080/"
        },
        "id": "JpvFLMDbuOqh",
        "outputId": "766a3c83-d84c-4d95-cfa6-7617c3bca5c1"
      },
      "execution_count": 10,
      "outputs": [
        {
          "output_type": "stream",
          "name": "stdout",
          "text": [
            "89.83104818473653\n",
            "8069.617217968456\n"
          ]
        }
      ]
    },
    {
      "cell_type": "code",
      "source": [
        "minimum = df['count_10mer'].min()\n",
        "maximum = df['count_10mer'].max()\n",
        "median = df['count_10mer'].median()\n",
        "mean = df['count_10mer'].mean()\n",
        "standard_deviation = df['count_10mer'].std()\n",
        "variance = df['count_10mer'].var()\n",
        "\n",
        "print(minimum,\"\\n\",maximum,\"\\n\",median,\"\\n\",mean,\"\\n\",standard_deviation,\"\\n\",variance )"
      ],
      "metadata": {
        "colab": {
          "base_uri": "https://localhost:8080/"
        },
        "id": "iIfUR5WpbJ_i",
        "outputId": "9cc3e2d9-3cab-412a-c327-d7d074904b47"
      },
      "execution_count": 11,
      "outputs": [
        {
          "output_type": "stream",
          "name": "stdout",
          "text": [
            "1 \n",
            " 500 \n",
            " 10.0 \n",
            " 58.479065576043254 \n",
            " 89.83104818473653 \n",
            " 8069.617217968457\n"
          ]
        }
      ]
    },
    {
      "cell_type": "code",
      "source": [
        "summary_dict = {\n",
        "    \"minimum\" : df['count_10mer'].min(),\n",
        "    \"maximum\" : df['count_10mer'].max(),\n",
        "    \"median\" : df['count_10mer'].median(),\n",
        "    \"mean\" : df['count_10mer'].mean(),\n",
        "    \"standard_deviation \" : df['count_10mer'].std(),\n",
        "    \"variance\" : df['count_10mer'].var()\n",
        "}\n",
        "\n",
        "for keys,values in summary_dict.items():\n",
        "  print(keys,\" : \",'{:.2f}'.format(values))"
      ],
      "metadata": {
        "colab": {
          "base_uri": "https://localhost:8080/"
        },
        "id": "mqQ6T2s_f4QM",
        "outputId": "c2398282-38a0-4558-9492-358b37e811e8"
      },
      "execution_count": 12,
      "outputs": [
        {
          "output_type": "stream",
          "name": "stdout",
          "text": [
            "minimum  :  1.00\n",
            "maximum  :  500.00\n",
            "median  :  10.00\n",
            "mean  :  58.48\n",
            "standard_deviation   :  89.83\n",
            "variance  :  8069.62\n"
          ]
        }
      ]
    },
    {
      "cell_type": "code",
      "source": [
        "\n",
        "with open('/content/gdrive/My Drive/Colab Notebooks/summary.txt', 'w') as f:\n",
        "  for keys,values in summary_dict.items():\n",
        "    f.write('%s : %s\\n' % (keys, values))"
      ],
      "metadata": {
        "id": "arFNoC5KkCJg"
      },
      "execution_count": 13,
      "outputs": []
    }
  ]
}