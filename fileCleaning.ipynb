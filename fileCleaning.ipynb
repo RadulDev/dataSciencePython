{
  "nbformat": 4,
  "nbformat_minor": 0,
  "metadata": {
    "colab": {
      "provenance": [],
      "authorship_tag": "ABX9TyMVJwpYlEqsk7JhZ+6KqKNY",
      "include_colab_link": true
    },
    "kernelspec": {
      "name": "python3",
      "display_name": "Python 3"
    },
    "language_info": {
      "name": "python"
    }
  },
  "cells": [
    {
      "cell_type": "markdown",
      "metadata": {
        "id": "view-in-github",
        "colab_type": "text"
      },
      "source": [
        "<a href=\"https://colab.research.google.com/github/RadulDev/dataSciencePython/blob/main/fileCleaning.ipynb\" target=\"_parent\"><img src=\"https://colab.research.google.com/assets/colab-badge.svg\" alt=\"Open In Colab\"/></a>"
      ]
    },
    {
      "cell_type": "markdown",
      "source": [
        "###File Processing and cleaning for training and testing puposes "
      ],
      "metadata": {
        "id": "zSH1rJJfCtb8"
      }
    },
    {
      "cell_type": "code",
      "source": [
        "with open(\"/content/Positive Training Dataset.txt\") as file:\n",
        "  #print(file.read())\n",
        "  for line in file.readlines():\n",
        "    #print(line)\n",
        "    #print(line.find(\" \"))\n",
        "    fTitle = line[:line.find(\" \")]\n",
        "    fSeq = line[line.find(\" \"):].replace(\"#\",\"\",2).lstrip()\n",
        "    print(fTitle)\n",
        "    print(fSeq)\n",
        "    file2 = open(\"/content/Positive_data_training_processed.txt\",'a')\n",
        "    file2.write(f'{fTitle}\\n{fSeq}')\n",
        "    file2.close()\n",
        "\n"
      ],
      "metadata": {
        "id": "M7bncDFAUDka"
      },
      "execution_count": null,
      "outputs": []
    },
    {
      "cell_type": "code",
      "source": [
        "count = 0\n",
        "with open('/content/pos_validation.txt') as file3:\n",
        "  for lines in file3.readlines():\n",
        "    #print(lines)\n",
        "    count +=1\n",
        "    file4 = open('/content/Positive_processed_validation_Sequences.txt','a')\n",
        "    file4.write(f'>Seq{count}\\n{lines}')\n",
        "    print(f'>Seq{count}\\n{lines}')\n",
        "    file.close()\n",
        "\n"
      ],
      "metadata": {
        "id": "mazf0tgwUPpn"
      },
      "execution_count": null,
      "outputs": []
    },
    {
      "cell_type": "code",
      "source": [],
      "metadata": {
        "id": "HVg7tqF64RL6"
      },
      "execution_count": null,
      "outputs": []
    }
  ]
}